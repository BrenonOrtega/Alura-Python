{
 "metadata": {
  "language_info": {
   "codemirror_mode": {
    "name": "ipython",
    "version": 3
   },
   "file_extension": ".py",
   "mimetype": "text/x-python",
   "name": "python",
   "nbconvert_exporter": "python",
   "pygments_lexer": "ipython3",
   "version": "3.9.1-final"
  },
  "orig_nbformat": 2,
  "kernelspec": {
   "name": "python3",
   "display_name": "Python 3",
   "language": "python"
  }
 },
 "nbformat": 4,
 "nbformat_minor": 2,
 "cells": [
  {
   "cell_type": "code",
   "execution_count": 1,
   "metadata": {},
   "outputs": [
    {
     "output_type": "execute_result",
     "data": {
      "text/plain": [
       "                km     ano  km_media\n",
       "Crossfox   35000.0  2005.0    2500.0\n",
       "DS5        17000.0  2015.0    4250.0\n",
       "Fusca     130000.0  1979.0    3250.0\n",
       "Jetta      56000.0  2011.0    7000.0\n",
       "Passat     62000.0  1999.0    3100.0"
      ],
      "text/html": "<div>\n<style scoped>\n    .dataframe tbody tr th:only-of-type {\n        vertical-align: middle;\n    }\n\n    .dataframe tbody tr th {\n        vertical-align: top;\n    }\n\n    .dataframe thead th {\n        text-align: right;\n    }\n</style>\n<table border=\"1\" class=\"dataframe\">\n  <thead>\n    <tr style=\"text-align: right;\">\n      <th></th>\n      <th>km</th>\n      <th>ano</th>\n      <th>km_media</th>\n    </tr>\n  </thead>\n  <tbody>\n    <tr>\n      <th>Crossfox</th>\n      <td>35000.0</td>\n      <td>2005.0</td>\n      <td>2500.0</td>\n    </tr>\n    <tr>\n      <th>DS5</th>\n      <td>17000.0</td>\n      <td>2015.0</td>\n      <td>4250.0</td>\n    </tr>\n    <tr>\n      <th>Fusca</th>\n      <td>130000.0</td>\n      <td>1979.0</td>\n      <td>3250.0</td>\n    </tr>\n    <tr>\n      <th>Jetta</th>\n      <td>56000.0</td>\n      <td>2011.0</td>\n      <td>7000.0</td>\n    </tr>\n    <tr>\n      <th>Passat</th>\n      <td>62000.0</td>\n      <td>1999.0</td>\n      <td>3100.0</td>\n    </tr>\n  </tbody>\n</table>\n</div>"
     },
     "metadata": {},
     "execution_count": 1
    }
   ],
   "source": [
    "import pandas as pd\n",
    "\n",
    "dados = {\n",
    "    'Crossfox': {'km': 35000, 'ano': 2005}, \n",
    "    'DS5': {'km': 17000, 'ano': 2015}, \n",
    "    'Fusca': {'km': 130000, 'ano': 1979}, \n",
    "    'Jetta': {'km': 56000, 'ano': 2011}, \n",
    "    'Passat': {'km': 62000, 'ano': 1999}\n",
    "}\n",
    "\n",
    "def km_media(dataset, ano_atual):\n",
    "    result = {}\n",
    "    for item in dataset.items():\n",
    "        media = item[1]['km'] / (ano_atual - item[1]['ano'])\n",
    "        item[1].update({ 'km_media': media })\n",
    "        result.update({ item[0]: item[1] })\n",
    "\n",
    "    return result\n",
    "\n",
    "carros = pd.DataFrame(km_media(dados, 2019)).T\n",
    "carros"
   ]
  },
  {
   "cell_type": "code",
   "execution_count": 77,
   "metadata": {
    "tags": []
   },
   "outputs": [
    {
     "output_type": "display_data",
     "data": {
      "text/plain": "            cor  preço  ano de fabricação\ncarro                                    \nescort     azul   5000               1998\ncivic   laranja  15000               2005\nka        preto  15000               2008",
      "text/html": "<div>\n<style scoped>\n    .dataframe tbody tr th:only-of-type {\n        vertical-align: middle;\n    }\n\n    .dataframe tbody tr th {\n        vertical-align: top;\n    }\n\n    .dataframe thead th {\n        text-align: right;\n    }\n</style>\n<table border=\"1\" class=\"dataframe\">\n  <thead>\n    <tr style=\"text-align: right;\">\n      <th></th>\n      <th>cor</th>\n      <th>preço</th>\n      <th>ano de fabricação</th>\n    </tr>\n    <tr>\n      <th>carro</th>\n      <th></th>\n      <th></th>\n      <th></th>\n    </tr>\n  </thead>\n  <tbody>\n    <tr>\n      <th>escort</th>\n      <td>azul</td>\n      <td>5000</td>\n      <td>1998</td>\n    </tr>\n    <tr>\n      <th>civic</th>\n      <td>laranja</td>\n      <td>15000</td>\n      <td>2005</td>\n    </tr>\n    <tr>\n      <th>ka</th>\n      <td>preto</td>\n      <td>15000</td>\n      <td>2008</td>\n    </tr>\n  </tbody>\n</table>\n</div>"
     },
     "metadata": {}
    }
   ],
   "source": [
    "data = {\n",
    "    \"cor\": [\"azul\", \"laranja\", \"preto\"],\n",
    "    \"preço\": [5000, 15000, 15000],\n",
    "    \"carro\": ['escort', 'civic', 'ka'],\n",
    "    \"ano de fabricação\": [1998, 2005, 2008]\n",
    "}\n",
    "\n",
    "df = pd.DataFrame(data=data)\n",
    "df = df.set_index(\"carro\")\n",
    "display(df)"
   ]
  },
  {
   "cell_type": "code",
   "execution_count": 68,
   "metadata": {},
   "outputs": [
    {
     "output_type": "execute_result",
     "data": {
      "text/plain": [
       "                km     ano  km_media\n",
       "Crossfox   35000.0  2005.0    2500.0\n",
       "DS5        17000.0  2015.0    4250.0\n",
       "Fusca     130000.0  1979.0    3250.0\n",
       "Jetta      56000.0  2011.0    7000.0\n",
       "Passat     62000.0  1999.0    3100.0"
      ],
      "text/html": "<div>\n<style scoped>\n    .dataframe tbody tr th:only-of-type {\n        vertical-align: middle;\n    }\n\n    .dataframe tbody tr th {\n        vertical-align: top;\n    }\n\n    .dataframe thead th {\n        text-align: right;\n    }\n</style>\n<table border=\"1\" class=\"dataframe\">\n  <thead>\n    <tr style=\"text-align: right;\">\n      <th></th>\n      <th>km</th>\n      <th>ano</th>\n      <th>km_media</th>\n    </tr>\n  </thead>\n  <tbody>\n    <tr>\n      <th>Crossfox</th>\n      <td>35000.0</td>\n      <td>2005.0</td>\n      <td>2500.0</td>\n    </tr>\n    <tr>\n      <th>DS5</th>\n      <td>17000.0</td>\n      <td>2015.0</td>\n      <td>4250.0</td>\n    </tr>\n    <tr>\n      <th>Fusca</th>\n      <td>130000.0</td>\n      <td>1979.0</td>\n      <td>3250.0</td>\n    </tr>\n    <tr>\n      <th>Jetta</th>\n      <td>56000.0</td>\n      <td>2011.0</td>\n      <td>7000.0</td>\n    </tr>\n    <tr>\n      <th>Passat</th>\n      <td>62000.0</td>\n      <td>1999.0</td>\n      <td>3100.0</td>\n    </tr>\n  </tbody>\n</table>\n</div>"
     },
     "metadata": {},
     "execution_count": 68
    }
   ],
   "source": [
    "dt= {'Crossfox': {'km': 35000, 'ano': 2005, 'km_media': 2500.0},\n",
    " 'DS5': {'km': 17000, 'ano': 2015, 'km_media': 4250.0},\n",
    " 'Fusca': {'km': 130000, 'ano': 1979, 'km_media': 3250.0},\n",
    " 'Jetta': {'km': 56000, 'ano': 2011, 'km_media': 7000.0},\n",
    " 'Passat': {'km': 62000, 'ano': 1999, 'km_media': 3100.0}}\n",
    "\n",
    "df1 = pd.DataFrame(data=dt).T\n",
    "\n",
    "df1"
   ]
  },
  {
   "cell_type": "code",
   "execution_count": 83,
   "metadata": {},
   "outputs": [
    {
     "output_type": "display_data",
     "data": {
      "text/plain": "                                       Motor   Ano  Quilometragem  Zero_km  \\\nNome                                                                         \nJetta Variant                Motor 4.0 Turbo  2003        44410.0    False   \nPassat                          Motor Diesel  1991         5712.0    False   \nCrossfox                     Motor Diesel V8  1990        37123.0    False   \nDS5                          Motor 2.4 Turbo  2019            NaN     True   \nAston Martin DB4             Motor 2.4 Turbo  2006        25757.0    False   \n...                                      ...   ...            ...      ...   \nPhantom 2013                        Motor V8  2014        27505.0    False   \nCadillac Ciel concept               Motor V8  1991        29981.0    False   \nClasse GLK             Motor 5.0 V8 Bi-Turbo  2002        52637.0    False   \nAston Martin DB5                Motor Diesel  1996         7685.0    False   \nMacan                        Motor Diesel V6  1992        50188.0    False   \n\n                                                              Acessórios  \\\nNome                                                                       \nJetta Variant          ['Rodas de liga', 'Travas elétricas', 'Piloto ...   \nPassat                 ['Central multimídia', 'Teto panorâmico', 'Fre...   \nCrossfox               ['Piloto automático', 'Controle de estabilidad...   \nDS5                    ['Travas elétricas', '4 X 4', 'Vidros elétrico...   \nAston Martin DB4       ['Rodas de liga', '4 X 4', 'Central multimídia...   \n...                                                                  ...   \nPhantom 2013           ['Controle de estabilidade', 'Piloto automátic...   \nCadillac Ciel concept  ['Bancos de couro', 'Painel digital', 'Sensor ...   \nClasse GLK             ['Rodas de liga', 'Controle de tração', 'Câmbi...   \nAston Martin DB5       ['Ar condicionado', '4 X 4', 'Câmbio automátic...   \nMacan                  ['Central multimídia', 'Teto panorâmico', 'Vid...   \n\n                           Valor  \nNome                              \nJetta Variant           88078.64  \nPassat                 106161.94  \nCrossfox                72832.16  \nDS5                    124549.07  \nAston Martin DB4        92612.10  \n...                          ...  \nPhantom 2013            51759.58  \nCadillac Ciel concept   51667.06  \nClasse GLK              68934.03  \nAston Martin DB5       122110.90  \nMacan                   90381.47  \n\n[258 rows x 6 columns]",
      "text/html": "<div>\n<style scoped>\n    .dataframe tbody tr th:only-of-type {\n        vertical-align: middle;\n    }\n\n    .dataframe tbody tr th {\n        vertical-align: top;\n    }\n\n    .dataframe thead th {\n        text-align: right;\n    }\n</style>\n<table border=\"1\" class=\"dataframe\">\n  <thead>\n    <tr style=\"text-align: right;\">\n      <th></th>\n      <th>Motor</th>\n      <th>Ano</th>\n      <th>Quilometragem</th>\n      <th>Zero_km</th>\n      <th>Acessórios</th>\n      <th>Valor</th>\n    </tr>\n    <tr>\n      <th>Nome</th>\n      <th></th>\n      <th></th>\n      <th></th>\n      <th></th>\n      <th></th>\n      <th></th>\n    </tr>\n  </thead>\n  <tbody>\n    <tr>\n      <th>Jetta Variant</th>\n      <td>Motor 4.0 Turbo</td>\n      <td>2003</td>\n      <td>44410.0</td>\n      <td>False</td>\n      <td>['Rodas de liga', 'Travas elétricas', 'Piloto ...</td>\n      <td>88078.64</td>\n    </tr>\n    <tr>\n      <th>Passat</th>\n      <td>Motor Diesel</td>\n      <td>1991</td>\n      <td>5712.0</td>\n      <td>False</td>\n      <td>['Central multimídia', 'Teto panorâmico', 'Fre...</td>\n      <td>106161.94</td>\n    </tr>\n    <tr>\n      <th>Crossfox</th>\n      <td>Motor Diesel V8</td>\n      <td>1990</td>\n      <td>37123.0</td>\n      <td>False</td>\n      <td>['Piloto automático', 'Controle de estabilidad...</td>\n      <td>72832.16</td>\n    </tr>\n    <tr>\n      <th>DS5</th>\n      <td>Motor 2.4 Turbo</td>\n      <td>2019</td>\n      <td>NaN</td>\n      <td>True</td>\n      <td>['Travas elétricas', '4 X 4', 'Vidros elétrico...</td>\n      <td>124549.07</td>\n    </tr>\n    <tr>\n      <th>Aston Martin DB4</th>\n      <td>Motor 2.4 Turbo</td>\n      <td>2006</td>\n      <td>25757.0</td>\n      <td>False</td>\n      <td>['Rodas de liga', '4 X 4', 'Central multimídia...</td>\n      <td>92612.10</td>\n    </tr>\n    <tr>\n      <th>...</th>\n      <td>...</td>\n      <td>...</td>\n      <td>...</td>\n      <td>...</td>\n      <td>...</td>\n      <td>...</td>\n    </tr>\n    <tr>\n      <th>Phantom 2013</th>\n      <td>Motor V8</td>\n      <td>2014</td>\n      <td>27505.0</td>\n      <td>False</td>\n      <td>['Controle de estabilidade', 'Piloto automátic...</td>\n      <td>51759.58</td>\n    </tr>\n    <tr>\n      <th>Cadillac Ciel concept</th>\n      <td>Motor V8</td>\n      <td>1991</td>\n      <td>29981.0</td>\n      <td>False</td>\n      <td>['Bancos de couro', 'Painel digital', 'Sensor ...</td>\n      <td>51667.06</td>\n    </tr>\n    <tr>\n      <th>Classe GLK</th>\n      <td>Motor 5.0 V8 Bi-Turbo</td>\n      <td>2002</td>\n      <td>52637.0</td>\n      <td>False</td>\n      <td>['Rodas de liga', 'Controle de tração', 'Câmbi...</td>\n      <td>68934.03</td>\n    </tr>\n    <tr>\n      <th>Aston Martin DB5</th>\n      <td>Motor Diesel</td>\n      <td>1996</td>\n      <td>7685.0</td>\n      <td>False</td>\n      <td>['Ar condicionado', '4 X 4', 'Câmbio automátic...</td>\n      <td>122110.90</td>\n    </tr>\n    <tr>\n      <th>Macan</th>\n      <td>Motor Diesel V6</td>\n      <td>1992</td>\n      <td>50188.0</td>\n      <td>False</td>\n      <td>['Central multimídia', 'Teto panorâmico', 'Vid...</td>\n      <td>90381.47</td>\n    </tr>\n  </tbody>\n</table>\n<p>258 rows × 6 columns</p>\n</div>"
     },
     "metadata": {}
    }
   ],
   "source": [
    "import pandas as pd\n",
    "with open ('Python_Data_Science\\Pandas\\data\\db.csv', 'rb') as file:\n",
    "    ds = pd.read_csv(file, sep=';', index_col=0, header=0)\n",
    "\n",
    "\n",
    "display(ds)"
   ]
  },
  {
   "cell_type": "code",
   "execution_count": 63,
   "metadata": {},
   "outputs": [
    {
     "output_type": "execute_result",
     "data": {
      "text/plain": [
       "Nome\n",
       "Jetta Variant             88078.64\n",
       "Passat                   106161.94\n",
       "Crossfox                  72832.16\n",
       "DS5                      124549.07\n",
       "Aston Martin DB4          92612.10\n",
       "                           ...    \n",
       "Phantom 2013              51759.58\n",
       "Cadillac Ciel concept     51667.06\n",
       "Classe GLK                68934.03\n",
       "Aston Martin DB5         122110.90\n",
       "Macan                     90381.47\n",
       "Name: Valor, Length: 258, dtype: float64"
      ]
     },
     "metadata": {},
     "execution_count": 63
    }
   ],
   "source": [
    "#Diferença na definição de Series e DataFrames\n",
    "\n",
    "#Recuperando dados do dataframe em forma de Series.\n",
    "ds[\"Valor\"]"
   ]
  },
  {
   "cell_type": "code",
   "execution_count": 79,
   "metadata": {},
   "outputs": [
    {
     "output_type": "execute_result",
     "data": {
      "text/plain": [
       "                           Valor\n",
       "Nome                            \n",
       "Jetta Variant           88078.64\n",
       "Passat                 106161.94\n",
       "Crossfox                72832.16\n",
       "DS5                    124549.07\n",
       "Aston Martin DB4        92612.10\n",
       "...                          ...\n",
       "Phantom 2013            51759.58\n",
       "Cadillac Ciel concept   51667.06\n",
       "Classe GLK              68934.03\n",
       "Aston Martin DB5       122110.90\n",
       "Macan                   90381.47\n",
       "\n",
       "[258 rows x 1 columns]"
      ],
      "text/html": "<div>\n<style scoped>\n    .dataframe tbody tr th:only-of-type {\n        vertical-align: middle;\n    }\n\n    .dataframe tbody tr th {\n        vertical-align: top;\n    }\n\n    .dataframe thead th {\n        text-align: right;\n    }\n</style>\n<table border=\"1\" class=\"dataframe\">\n  <thead>\n    <tr style=\"text-align: right;\">\n      <th></th>\n      <th>Valor</th>\n    </tr>\n    <tr>\n      <th>Nome</th>\n      <th></th>\n    </tr>\n  </thead>\n  <tbody>\n    <tr>\n      <th>Jetta Variant</th>\n      <td>88078.64</td>\n    </tr>\n    <tr>\n      <th>Passat</th>\n      <td>106161.94</td>\n    </tr>\n    <tr>\n      <th>Crossfox</th>\n      <td>72832.16</td>\n    </tr>\n    <tr>\n      <th>DS5</th>\n      <td>124549.07</td>\n    </tr>\n    <tr>\n      <th>Aston Martin DB4</th>\n      <td>92612.10</td>\n    </tr>\n    <tr>\n      <th>...</th>\n      <td>...</td>\n    </tr>\n    <tr>\n      <th>Phantom 2013</th>\n      <td>51759.58</td>\n    </tr>\n    <tr>\n      <th>Cadillac Ciel concept</th>\n      <td>51667.06</td>\n    </tr>\n    <tr>\n      <th>Classe GLK</th>\n      <td>68934.03</td>\n    </tr>\n    <tr>\n      <th>Aston Martin DB5</th>\n      <td>122110.90</td>\n    </tr>\n    <tr>\n      <th>Macan</th>\n      <td>90381.47</td>\n    </tr>\n  </tbody>\n</table>\n<p>258 rows × 1 columns</p>\n</div>"
     },
     "metadata": {},
     "execution_count": 79
    }
   ],
   "source": [
    "#Recuperando dados do dataframe em forma de DataFrame.\n",
    "ds[[\"Valor\"]]"
   ]
  },
  {
   "cell_type": "code",
   "execution_count": 85,
   "metadata": {},
   "outputs": [
    {
     "output_type": "execute_result",
     "data": {
      "text/plain": [
       "                           Valor  Quilometragem\n",
       "Nome                                           \n",
       "Jetta Variant           88078.64        44410.0\n",
       "Passat                 106161.94         5712.0\n",
       "Crossfox                72832.16        37123.0\n",
       "DS5                    124549.07            NaN\n",
       "Aston Martin DB4        92612.10        25757.0\n",
       "...                          ...            ...\n",
       "Phantom 2013            51759.58        27505.0\n",
       "Cadillac Ciel concept   51667.06        29981.0\n",
       "Classe GLK              68934.03        52637.0\n",
       "Aston Martin DB5       122110.90         7685.0\n",
       "Macan                   90381.47        50188.0\n",
       "\n",
       "[258 rows x 2 columns]"
      ],
      "text/html": "<div>\n<style scoped>\n    .dataframe tbody tr th:only-of-type {\n        vertical-align: middle;\n    }\n\n    .dataframe tbody tr th {\n        vertical-align: top;\n    }\n\n    .dataframe thead th {\n        text-align: right;\n    }\n</style>\n<table border=\"1\" class=\"dataframe\">\n  <thead>\n    <tr style=\"text-align: right;\">\n      <th></th>\n      <th>Valor</th>\n      <th>Quilometragem</th>\n    </tr>\n    <tr>\n      <th>Nome</th>\n      <th></th>\n      <th></th>\n    </tr>\n  </thead>\n  <tbody>\n    <tr>\n      <th>Jetta Variant</th>\n      <td>88078.64</td>\n      <td>44410.0</td>\n    </tr>\n    <tr>\n      <th>Passat</th>\n      <td>106161.94</td>\n      <td>5712.0</td>\n    </tr>\n    <tr>\n      <th>Crossfox</th>\n      <td>72832.16</td>\n      <td>37123.0</td>\n    </tr>\n    <tr>\n      <th>DS5</th>\n      <td>124549.07</td>\n      <td>NaN</td>\n    </tr>\n    <tr>\n      <th>Aston Martin DB4</th>\n      <td>92612.10</td>\n      <td>25757.0</td>\n    </tr>\n    <tr>\n      <th>...</th>\n      <td>...</td>\n      <td>...</td>\n    </tr>\n    <tr>\n      <th>Phantom 2013</th>\n      <td>51759.58</td>\n      <td>27505.0</td>\n    </tr>\n    <tr>\n      <th>Cadillac Ciel concept</th>\n      <td>51667.06</td>\n      <td>29981.0</td>\n    </tr>\n    <tr>\n      <th>Classe GLK</th>\n      <td>68934.03</td>\n      <td>52637.0</td>\n    </tr>\n    <tr>\n      <th>Aston Martin DB5</th>\n      <td>122110.90</td>\n      <td>7685.0</td>\n    </tr>\n    <tr>\n      <th>Macan</th>\n      <td>90381.47</td>\n      <td>50188.0</td>\n    </tr>\n  </tbody>\n</table>\n<p>258 rows × 2 columns</p>\n</div>"
     },
     "metadata": {},
     "execution_count": 85
    }
   ],
   "source": [
    "#Utilizando a função loc[] para visualizar todas as linhas e apenas os campos 'Valor' e 'Quilometragem'.\n",
    "\n",
    "ds.loc[:, [\"Valor\", \"Quilometragem\"]]"
   ]
  },
  {
   "cell_type": "code",
   "execution_count": 92,
   "metadata": {},
   "outputs": [
    {
     "output_type": "execute_result",
     "data": {
      "text/plain": [
       "                            Motor   Ano  Quilometragem  Zero_km  \\\n",
       "Nome                                                              \n",
       "Passat               Motor Diesel  1991         5712.0    False   \n",
       "Crossfox          Motor Diesel V8  1990        37123.0    False   \n",
       "DS5               Motor 2.4 Turbo  2019            NaN     True   \n",
       "Aston Martin DB4  Motor 2.4 Turbo  2006        25757.0    False   \n",
       "\n",
       "                                                         Acessórios      Valor  \n",
       "Nome                                                                            \n",
       "Passat            ['Central multimídia', 'Teto panorâmico', 'Fre...  106161.94  \n",
       "Crossfox          ['Piloto automático', 'Controle de estabilidad...   72832.16  \n",
       "DS5               ['Travas elétricas', '4 X 4', 'Vidros elétrico...  124549.07  \n",
       "Aston Martin DB4  ['Rodas de liga', '4 X 4', 'Central multimídia...   92612.10  "
      ],
      "text/html": "<div>\n<style scoped>\n    .dataframe tbody tr th:only-of-type {\n        vertical-align: middle;\n    }\n\n    .dataframe tbody tr th {\n        vertical-align: top;\n    }\n\n    .dataframe thead th {\n        text-align: right;\n    }\n</style>\n<table border=\"1\" class=\"dataframe\">\n  <thead>\n    <tr style=\"text-align: right;\">\n      <th></th>\n      <th>Motor</th>\n      <th>Ano</th>\n      <th>Quilometragem</th>\n      <th>Zero_km</th>\n      <th>Acessórios</th>\n      <th>Valor</th>\n    </tr>\n    <tr>\n      <th>Nome</th>\n      <th></th>\n      <th></th>\n      <th></th>\n      <th></th>\n      <th></th>\n      <th></th>\n    </tr>\n  </thead>\n  <tbody>\n    <tr>\n      <th>Passat</th>\n      <td>Motor Diesel</td>\n      <td>1991</td>\n      <td>5712.0</td>\n      <td>False</td>\n      <td>['Central multimídia', 'Teto panorâmico', 'Fre...</td>\n      <td>106161.94</td>\n    </tr>\n    <tr>\n      <th>Crossfox</th>\n      <td>Motor Diesel V8</td>\n      <td>1990</td>\n      <td>37123.0</td>\n      <td>False</td>\n      <td>['Piloto automático', 'Controle de estabilidad...</td>\n      <td>72832.16</td>\n    </tr>\n    <tr>\n      <th>DS5</th>\n      <td>Motor 2.4 Turbo</td>\n      <td>2019</td>\n      <td>NaN</td>\n      <td>True</td>\n      <td>['Travas elétricas', '4 X 4', 'Vidros elétrico...</td>\n      <td>124549.07</td>\n    </tr>\n    <tr>\n      <th>Aston Martin DB4</th>\n      <td>Motor 2.4 Turbo</td>\n      <td>2006</td>\n      <td>25757.0</td>\n      <td>False</td>\n      <td>['Rodas de liga', '4 X 4', 'Central multimídia...</td>\n      <td>92612.10</td>\n    </tr>\n  </tbody>\n</table>\n</div>"
     },
     "metadata": {},
     "execution_count": 92
    }
   ],
   "source": [
    "#Utilizando a função loc[] para fatiar linhas.\n",
    "\n",
    "ds.loc['Passat':\"Aston Martin DB4\"]"
   ]
  },
  {
   "cell_type": "code",
   "execution_count": 96,
   "metadata": {},
   "outputs": [
    {
     "output_type": "execute_result",
     "data": {
      "text/plain": [
       "                            Motor      Valor  \\\n",
       "Nome                                           \n",
       "Passat               Motor Diesel  106161.94   \n",
       "Crossfox          Motor Diesel V8   72832.16   \n",
       "DS5               Motor 2.4 Turbo  124549.07   \n",
       "Aston Martin DB4  Motor 2.4 Turbo   92612.10   \n",
       "\n",
       "                                                         Acessórios  \n",
       "Nome                                                                 \n",
       "Passat            ['Central multimídia', 'Teto panorâmico', 'Fre...  \n",
       "Crossfox          ['Piloto automático', 'Controle de estabilidad...  \n",
       "DS5               ['Travas elétricas', '4 X 4', 'Vidros elétrico...  \n",
       "Aston Martin DB4  ['Rodas de liga', '4 X 4', 'Central multimídia...  "
      ],
      "text/html": "<div>\n<style scoped>\n    .dataframe tbody tr th:only-of-type {\n        vertical-align: middle;\n    }\n\n    .dataframe tbody tr th {\n        vertical-align: top;\n    }\n\n    .dataframe thead th {\n        text-align: right;\n    }\n</style>\n<table border=\"1\" class=\"dataframe\">\n  <thead>\n    <tr style=\"text-align: right;\">\n      <th></th>\n      <th>Motor</th>\n      <th>Valor</th>\n      <th>Acessórios</th>\n    </tr>\n    <tr>\n      <th>Nome</th>\n      <th></th>\n      <th></th>\n      <th></th>\n    </tr>\n  </thead>\n  <tbody>\n    <tr>\n      <th>Passat</th>\n      <td>Motor Diesel</td>\n      <td>106161.94</td>\n      <td>['Central multimídia', 'Teto panorâmico', 'Fre...</td>\n    </tr>\n    <tr>\n      <th>Crossfox</th>\n      <td>Motor Diesel V8</td>\n      <td>72832.16</td>\n      <td>['Piloto automático', 'Controle de estabilidad...</td>\n    </tr>\n    <tr>\n      <th>DS5</th>\n      <td>Motor 2.4 Turbo</td>\n      <td>124549.07</td>\n      <td>['Travas elétricas', '4 X 4', 'Vidros elétrico...</td>\n    </tr>\n    <tr>\n      <th>Aston Martin DB4</th>\n      <td>Motor 2.4 Turbo</td>\n      <td>92612.10</td>\n      <td>['Rodas de liga', '4 X 4', 'Central multimídia...</td>\n    </tr>\n  </tbody>\n</table>\n</div>"
     },
     "metadata": {},
     "execution_count": 96
    }
   ],
   "source": [
    "#   Utilizando a função loc[] para fatiar linhas e reorganizar colunas (ou selecionar apenas um conjunto).\n",
    "#   Apenas é necessário passar as colunas desejadas como um outro argumento\n",
    "ds.loc['Passat':\"Aston Martin DB4\", [\"Motor\", \"Valor\", 'Acessórios', ]]"
   ]
  },
  {
   "cell_type": "code",
   "execution_count": 108,
   "metadata": {},
   "outputs": [
    {
     "output_type": "execute_result",
     "data": {
      "text/plain": [
       "Nome\n",
       "Passat              106161.94\n",
       "Crossfox             72832.16\n",
       "DS5                 124549.07\n",
       "Aston Martin DB4     92612.10\n",
       "Name: Valor, dtype: float64"
      ]
     },
     "metadata": {},
     "execution_count": 108
    }
   ],
   "source": [
    "#utilizando .iloc[] para executar o mesmo fatiamento anterior, a função busca as linhas usando seu index numérico.\n",
    "\n",
    "ds.iloc[1:5]"
   ]
  },
  {
   "cell_type": "code",
   "execution_count": 113,
   "metadata": {},
   "outputs": [
    {
     "output_type": "execute_result",
     "data": {
      "text/plain": [
       "                            Motor      Valor  \\\n",
       "Nome                                           \n",
       "Passat               Motor Diesel  106161.94   \n",
       "Crossfox          Motor Diesel V8   72832.16   \n",
       "DS5               Motor 2.4 Turbo  124549.07   \n",
       "Aston Martin DB4  Motor 2.4 Turbo   92612.10   \n",
       "\n",
       "                                                         Acessórios  \n",
       "Nome                                                                 \n",
       "Passat            ['Central multimídia', 'Teto panorâmico', 'Fre...  \n",
       "Crossfox          ['Piloto automático', 'Controle de estabilidad...  \n",
       "DS5               ['Travas elétricas', '4 X 4', 'Vidros elétrico...  \n",
       "Aston Martin DB4  ['Rodas de liga', '4 X 4', 'Central multimídia...  "
      ],
      "text/html": "<div>\n<style scoped>\n    .dataframe tbody tr th:only-of-type {\n        vertical-align: middle;\n    }\n\n    .dataframe tbody tr th {\n        vertical-align: top;\n    }\n\n    .dataframe thead th {\n        text-align: right;\n    }\n</style>\n<table border=\"1\" class=\"dataframe\">\n  <thead>\n    <tr style=\"text-align: right;\">\n      <th></th>\n      <th>Motor</th>\n      <th>Valor</th>\n      <th>Acessórios</th>\n    </tr>\n    <tr>\n      <th>Nome</th>\n      <th></th>\n      <th></th>\n      <th></th>\n    </tr>\n  </thead>\n  <tbody>\n    <tr>\n      <th>Passat</th>\n      <td>Motor Diesel</td>\n      <td>106161.94</td>\n      <td>['Central multimídia', 'Teto panorâmico', 'Fre...</td>\n    </tr>\n    <tr>\n      <th>Crossfox</th>\n      <td>Motor Diesel V8</td>\n      <td>72832.16</td>\n      <td>['Piloto automático', 'Controle de estabilidad...</td>\n    </tr>\n    <tr>\n      <th>DS5</th>\n      <td>Motor 2.4 Turbo</td>\n      <td>124549.07</td>\n      <td>['Travas elétricas', '4 X 4', 'Vidros elétrico...</td>\n    </tr>\n    <tr>\n      <th>Aston Martin DB4</th>\n      <td>Motor 2.4 Turbo</td>\n      <td>92612.10</td>\n      <td>['Rodas de liga', '4 X 4', 'Central multimídia...</td>\n    </tr>\n  </tbody>\n</table>\n</div>"
     },
     "metadata": {},
     "execution_count": 113
    }
   ],
   "source": [
    "#utilizando .iloc[] para executar o mesmo fatiamento anterior, buscando e reoganizando as colunas pelo seu index.\n",
    "\n",
    "ds.iloc[1:5,[0, 5, 4]]"
   ]
  },
  {
   "cell_type": "code",
   "execution_count": 118,
   "metadata": {},
   "outputs": [
    {
     "output_type": "execute_result",
     "data": {
      "text/plain": [
       "                            Motor      Valor  \\\n",
       "Nome                                           \n",
       "Passat               Motor Diesel  106161.94   \n",
       "Crossfox          Motor Diesel V8   72832.16   \n",
       "DS5               Motor 2.4 Turbo  124549.07   \n",
       "Aston Martin DB4  Motor 2.4 Turbo   92612.10   \n",
       "Palio Weekend       Motor 1.8 16v   97497.73   \n",
       "A5                Motor 4.0 Turbo   56445.20   \n",
       "Série 3 Cabrio       Motor 1.0 8v  112310.44   \n",
       "\n",
       "                                                         Acessórios  \n",
       "Nome                                                                 \n",
       "Passat            ['Central multimídia', 'Teto panorâmico', 'Fre...  \n",
       "Crossfox          ['Piloto automático', 'Controle de estabilidad...  \n",
       "DS5               ['Travas elétricas', '4 X 4', 'Vidros elétrico...  \n",
       "Aston Martin DB4  ['Rodas de liga', '4 X 4', 'Central multimídia...  \n",
       "Palio Weekend     ['Sensor de estacionamento', 'Teto panorâmico'...  \n",
       "A5                ['Câmbio automático', 'Câmera de estacionament...  \n",
       "Série 3 Cabrio    ['Controle de estabilidade', 'Sensor crepuscul...  "
      ],
      "text/html": "<div>\n<style scoped>\n    .dataframe tbody tr th:only-of-type {\n        vertical-align: middle;\n    }\n\n    .dataframe tbody tr th {\n        vertical-align: top;\n    }\n\n    .dataframe thead th {\n        text-align: right;\n    }\n</style>\n<table border=\"1\" class=\"dataframe\">\n  <thead>\n    <tr style=\"text-align: right;\">\n      <th></th>\n      <th>Motor</th>\n      <th>Valor</th>\n      <th>Acessórios</th>\n    </tr>\n    <tr>\n      <th>Nome</th>\n      <th></th>\n      <th></th>\n      <th></th>\n    </tr>\n  </thead>\n  <tbody>\n    <tr>\n      <th>Passat</th>\n      <td>Motor Diesel</td>\n      <td>106161.94</td>\n      <td>['Central multimídia', 'Teto panorâmico', 'Fre...</td>\n    </tr>\n    <tr>\n      <th>Crossfox</th>\n      <td>Motor Diesel V8</td>\n      <td>72832.16</td>\n      <td>['Piloto automático', 'Controle de estabilidad...</td>\n    </tr>\n    <tr>\n      <th>DS5</th>\n      <td>Motor 2.4 Turbo</td>\n      <td>124549.07</td>\n      <td>['Travas elétricas', '4 X 4', 'Vidros elétrico...</td>\n    </tr>\n    <tr>\n      <th>Aston Martin DB4</th>\n      <td>Motor 2.4 Turbo</td>\n      <td>92612.10</td>\n      <td>['Rodas de liga', '4 X 4', 'Central multimídia...</td>\n    </tr>\n    <tr>\n      <th>Palio Weekend</th>\n      <td>Motor 1.8 16v</td>\n      <td>97497.73</td>\n      <td>['Sensor de estacionamento', 'Teto panorâmico'...</td>\n    </tr>\n    <tr>\n      <th>A5</th>\n      <td>Motor 4.0 Turbo</td>\n      <td>56445.20</td>\n      <td>['Câmbio automático', 'Câmera de estacionament...</td>\n    </tr>\n    <tr>\n      <th>Série 3 Cabrio</th>\n      <td>Motor 1.0 8v</td>\n      <td>112310.44</td>\n      <td>['Controle de estabilidade', 'Sensor crepuscul...</td>\n    </tr>\n  </tbody>\n</table>\n</div>"
     },
     "metadata": {},
     "execution_count": 118
    }
   ],
   "source": [
    "#   É possível encadear os métodos iloc[] e loc[] para buscar linhas por index, colunas pelo nome ou vice-versa.\n",
    "\n",
    "ds.iloc[1:8].loc[:, [\"Motor\", \"Valor\", \"Acessórios\"]]"
   ]
  },
  {
   "cell_type": "code",
   "execution_count": 125,
   "metadata": {},
   "outputs": [
    {
     "output_type": "display_data",
     "data": {
      "text/plain": "Nome\nPassat              106161.94\nCrossfox             72832.16\nDS5                 124549.07\nAston Martin DB4     92612.10\nPalio Weekend        97497.73\nA5                   56445.20\nSérie 3 Cabrio      112310.44\nName: Valor, dtype: float64"
     },
     "metadata": {}
    },
    {
     "output_type": "display_data",
     "data": {
      "text/plain": "                      Valor\nNome                       \nPassat            106161.94\nCrossfox           72832.16\nDS5               124549.07\nAston Martin DB4   92612.10\nPalio Weekend      97497.73\nA5                 56445.20\nSérie 3 Cabrio    112310.44",
      "text/html": "<div>\n<style scoped>\n    .dataframe tbody tr th:only-of-type {\n        vertical-align: middle;\n    }\n\n    .dataframe tbody tr th {\n        vertical-align: top;\n    }\n\n    .dataframe thead th {\n        text-align: right;\n    }\n</style>\n<table border=\"1\" class=\"dataframe\">\n  <thead>\n    <tr style=\"text-align: right;\">\n      <th></th>\n      <th>Valor</th>\n    </tr>\n    <tr>\n      <th>Nome</th>\n      <th></th>\n    </tr>\n  </thead>\n  <tbody>\n    <tr>\n      <th>Passat</th>\n      <td>106161.94</td>\n    </tr>\n    <tr>\n      <th>Crossfox</th>\n      <td>72832.16</td>\n    </tr>\n    <tr>\n      <th>DS5</th>\n      <td>124549.07</td>\n    </tr>\n    <tr>\n      <th>Aston Martin DB4</th>\n      <td>92612.10</td>\n    </tr>\n    <tr>\n      <th>Palio Weekend</th>\n      <td>97497.73</td>\n    </tr>\n    <tr>\n      <th>A5</th>\n      <td>56445.20</td>\n    </tr>\n    <tr>\n      <th>Série 3 Cabrio</th>\n      <td>112310.44</td>\n    </tr>\n  </tbody>\n</table>\n</div>"
     },
     "metadata": {}
    }
   ],
   "source": [
    "#   Também podemos fazer a mesma seleção anterior de apenas um dado em\n",
    "#   formato de Series e transformá-la em Dataframe utilizando .to_frame()\n",
    "\n",
    "display(ds.iloc[1:8].loc[:, \"Valor\"], ds.iloc[1:8].loc[:, \"Valor\"].to_frame())"
   ]
  },
  {
   "cell_type": "code",
   "execution_count": 161,
   "metadata": {},
   "outputs": [
    {
     "output_type": "stream",
     "name": "stdout",
     "text": [
      "Motor\nAno\nQuilometragem\nZero_km\nAcessórios\nValor\n"
     ]
    }
   ],
   "source": [
    "#   Iterando dataframes:\n",
    "#   isso não é funcional, pois apenas retorna as colunas.\n",
    "for item in ds[:10]:\n",
    "    print(item)"
   ]
  },
  {
   "cell_type": "code",
   "execution_count": 166,
   "metadata": {},
   "outputs": [
    {
     "output_type": "display_data",
     "data": {
      "text/plain": "<generator object DataFrame.iterrows at 0x000001A9B8F9C510>"
     },
     "metadata": {}
    },
    {
     "output_type": "display_data",
     "data": {
      "text/plain": "[('Jetta Variant',\n  Motor                                              Motor 4.0 Turbo\n  Ano                                                           2003\n  Quilometragem                                              44410.0\n  Zero_km                                                      False\n  Acessórios       ['Rodas de liga', 'Travas elétricas', 'Piloto ...\n  Valor                                                     88078.64\n  Name: Jetta Variant, dtype: object),\n ('Passat',\n  Motor                                                 Motor Diesel\n  Ano                                                           1991\n  Quilometragem                                               5712.0\n  Zero_km                                                      False\n  Acessórios       ['Central multimídia', 'Teto panorâmico', 'Fre...\n  Valor                                                    106161.94\n  Name: Passat, dtype: object),\n ('Crossfox',\n  Motor                                              Motor Diesel V8\n  Ano                                                           1990\n  Quilometragem                                              37123.0\n  Zero_km                                                      False\n  Acessórios       ['Piloto automático', 'Controle de estabilidad...\n  Valor                                                     72832.16\n  Name: Crossfox, dtype: object),\n ('DS5',\n  Motor                                              Motor 2.4 Turbo\n  Ano                                                           2019\n  Quilometragem                                                  NaN\n  Zero_km                                                       True\n  Acessórios       ['Travas elétricas', '4 X 4', 'Vidros elétrico...\n  Valor                                                    124549.07\n  Name: DS5, dtype: object),\n ('Aston Martin DB4',\n  Motor                                              Motor 2.4 Turbo\n  Ano                                                           2006\n  Quilometragem                                              25757.0\n  Zero_km                                                      False\n  Acessórios       ['Rodas de liga', '4 X 4', 'Central multimídia...\n  Valor                                                      92612.1\n  Name: Aston Martin DB4, dtype: object)]"
     },
     "metadata": {}
    }
   ],
   "source": [
    "#   Visto que a função .iterrows() é uma função geradora, ela cria um iterador \n",
    "#   a partir das linhas do dataframe, conforme mostrado no display abaixo\n",
    "\n",
    "display(ds[:5].iterrows())\n",
    "\n",
    "#   Portanto, o seguinte é uma maneira válida de iterar as linhas,\n",
    "#   no caso do dataset não possuir um volume muito grande de dados:\n",
    "\n",
    "display(list(ds[:5].iterrows()))"
   ]
  },
  {
   "cell_type": "code",
   "execution_count": 160,
   "metadata": {},
   "outputs": [
    {
     "output_type": "display_data",
     "data": {
      "text/plain": "('Jetta Variant',\n Valor           88078.64\n Motor    Motor 4.0 Turbo\n Name: Jetta Variant, dtype: object)"
     },
     "metadata": {}
    },
    {
     "output_type": "display_data",
     "data": {
      "text/plain": "('Passat',\n Valor       106161.94\n Motor    Motor Diesel\n Name: Passat, dtype: object)"
     },
     "metadata": {}
    },
    {
     "output_type": "display_data",
     "data": {
      "text/plain": "('Crossfox',\n Valor           72832.16\n Motor    Motor Diesel V8\n Name: Crossfox, dtype: object)"
     },
     "metadata": {}
    },
    {
     "output_type": "display_data",
     "data": {
      "text/plain": "('DS5',\n Valor          124549.07\n Motor    Motor 2.4 Turbo\n Name: DS5, dtype: object)"
     },
     "metadata": {}
    }
   ],
   "source": [
    "#   A idéia das células abaixo é a mesma só que de maneiras diferentes\n",
    "#   A forma abaixo usa diretamente o operador de indexação (colchetes) \n",
    "#   e itera linha por linha buscando pelos dados das colunas abaixo.\n",
    "\n",
    "for item in ds[:4][[\"Valor\", \"Motor\", ]].iterrows():\n",
    "    display(item)\n"
   ]
  },
  {
   "cell_type": "code",
   "execution_count": 159,
   "metadata": {
    "tags": []
   },
   "outputs": [
    {
     "output_type": "display_data",
     "data": {
      "text/plain": "('Jetta Variant',\n Valor           88078.64\n Motor    Motor 4.0 Turbo\n Name: Jetta Variant, dtype: object)"
     },
     "metadata": {}
    },
    {
     "output_type": "display_data",
     "data": {
      "text/plain": "('Passat',\n Valor       106161.94\n Motor    Motor Diesel\n Name: Passat, dtype: object)"
     },
     "metadata": {}
    },
    {
     "output_type": "display_data",
     "data": {
      "text/plain": "('Crossfox',\n Valor           72832.16\n Motor    Motor Diesel V8\n Name: Crossfox, dtype: object)"
     },
     "metadata": {}
    },
    {
     "output_type": "display_data",
     "data": {
      "text/plain": "('DS5',\n Valor          124549.07\n Motor    Motor 2.4 Turbo\n Name: DS5, dtype: object)"
     },
     "metadata": {}
    }
   ],
   "source": [
    "#   Esta forma também itera linha por linha porém utiliza iloc, seguido de .loc\n",
    "#   para executar o fatiamento e então executar a iteração.\n",
    "\n",
    "for item in ds.iloc[:4].loc[:,[\"Valor\", \"Motor\", ]].iterrows():\n",
    "    display(item)"
   ]
  },
  {
   "cell_type": "code",
   "execution_count": 199,
   "metadata": {
    "tags": []
   },
   "outputs": [
    {
     "output_type": "display_data",
     "data": {
      "text/plain": "                                  Motor   Ano  Quilometragem  Zero_km  \\\nNome                                                                    \nJetta Variant           Motor 4.0 Turbo  2003        44410.0    False   \nPassat                     Motor Diesel  1991         5712.0    False   \nCrossfox                Motor Diesel V8  1990        37123.0    False   \nDS5                     Motor 2.4 Turbo  2019            NaN     True   \nAston Martin DB4        Motor 2.4 Turbo  2006        25757.0    False   \nPalio Weekend             Motor 1.8 16v  2012        10728.0    False   \nA5                      Motor 4.0 Turbo  2019            NaN     True   \nSérie 3 Cabrio             Motor 1.0 8v  2009        77599.0    False   \nDodge Jorney              Motor 3.0 32v  2010        99197.0    False   \nCarens            Motor 5.0 V8 Bi-Turbo  2011        37978.0    False   \nFord Edge               Motor Diesel V6  2002        12859.0    False   \nCourier                 Motor Diesel V8  2007         8052.0    False   \nS-18                           Motor V6  2001        89773.0    False   \nJ5                             Motor V6  2019            NaN     True   \nF-Type Coupé      Motor 5.0 V8 Bi-Turbo  2009        41457.0    False   \n\n                                                         Acessórios  \\\nNome                                                                  \nJetta Variant     ['Rodas de liga', 'Travas elétricas', 'Piloto ...   \nPassat            ['Central multimídia', 'Teto panorâmico', 'Fre...   \nCrossfox          ['Piloto automático', 'Controle de estabilidad...   \nDS5               ['Travas elétricas', '4 X 4', 'Vidros elétrico...   \nAston Martin DB4  ['Rodas de liga', '4 X 4', 'Central multimídia...   \nPalio Weekend     ['Sensor de estacionamento', 'Teto panorâmico'...   \nA5                ['Câmbio automático', 'Câmera de estacionament...   \nSérie 3 Cabrio    ['Controle de estabilidade', 'Sensor crepuscul...   \nDodge Jorney      ['Vidros elétricos', 'Piloto automático', 'Tet...   \nCarens            ['Ar condicionado', 'Painel digital', 'Central...   \nFord Edge         ['Sensor crepuscular', 'Rodas de liga', 'Teto ...   \nCourier           ['Central multimídia', '4 X 4', 'Piloto automá...   \nS-18              ['Bancos de couro', 'Sensor de chuva', 'Rodas ...   \nJ5                ['Sensor crepuscular', 'Painel digital', 'Roda...   \nF-Type Coupé      ['Piloto automático', 'Sensor crepuscular', 'S...   \n\n                      Valor     km_media  \nNome                                      \nJetta Variant      88078.64  2467.222222  \nPassat            106161.94   190.400000  \nCrossfox           72832.16  1197.516129  \nDS5               124549.07          NaN  \nAston Martin DB4   92612.10  1717.133333  \nPalio Weekend      97497.73  1192.000000  \nA5                 56445.20          NaN  \nSérie 3 Cabrio    112310.44  6466.583333  \nDodge Jorney      120716.27  9017.909091  \nCarens             76566.49  3797.800000  \nFord Edge          71647.59   676.789474  \nCourier            73919.53   575.142857  \nS-18              112732.99  4488.650000  \nJ5                 53183.38          NaN  \nF-Type Coupé      127488.42  3454.750000  ",
      "text/html": "<div>\n<style scoped>\n    .dataframe tbody tr th:only-of-type {\n        vertical-align: middle;\n    }\n\n    .dataframe tbody tr th {\n        vertical-align: top;\n    }\n\n    .dataframe thead th {\n        text-align: right;\n    }\n</style>\n<table border=\"1\" class=\"dataframe\">\n  <thead>\n    <tr style=\"text-align: right;\">\n      <th></th>\n      <th>Motor</th>\n      <th>Ano</th>\n      <th>Quilometragem</th>\n      <th>Zero_km</th>\n      <th>Acessórios</th>\n      <th>Valor</th>\n      <th>km_media</th>\n    </tr>\n    <tr>\n      <th>Nome</th>\n      <th></th>\n      <th></th>\n      <th></th>\n      <th></th>\n      <th></th>\n      <th></th>\n      <th></th>\n    </tr>\n  </thead>\n  <tbody>\n    <tr>\n      <th>Jetta Variant</th>\n      <td>Motor 4.0 Turbo</td>\n      <td>2003</td>\n      <td>44410.0</td>\n      <td>False</td>\n      <td>['Rodas de liga', 'Travas elétricas', 'Piloto ...</td>\n      <td>88078.64</td>\n      <td>2467.222222</td>\n    </tr>\n    <tr>\n      <th>Passat</th>\n      <td>Motor Diesel</td>\n      <td>1991</td>\n      <td>5712.0</td>\n      <td>False</td>\n      <td>['Central multimídia', 'Teto panorâmico', 'Fre...</td>\n      <td>106161.94</td>\n      <td>190.400000</td>\n    </tr>\n    <tr>\n      <th>Crossfox</th>\n      <td>Motor Diesel V8</td>\n      <td>1990</td>\n      <td>37123.0</td>\n      <td>False</td>\n      <td>['Piloto automático', 'Controle de estabilidad...</td>\n      <td>72832.16</td>\n      <td>1197.516129</td>\n    </tr>\n    <tr>\n      <th>DS5</th>\n      <td>Motor 2.4 Turbo</td>\n      <td>2019</td>\n      <td>NaN</td>\n      <td>True</td>\n      <td>['Travas elétricas', '4 X 4', 'Vidros elétrico...</td>\n      <td>124549.07</td>\n      <td>NaN</td>\n    </tr>\n    <tr>\n      <th>Aston Martin DB4</th>\n      <td>Motor 2.4 Turbo</td>\n      <td>2006</td>\n      <td>25757.0</td>\n      <td>False</td>\n      <td>['Rodas de liga', '4 X 4', 'Central multimídia...</td>\n      <td>92612.10</td>\n      <td>1717.133333</td>\n    </tr>\n    <tr>\n      <th>Palio Weekend</th>\n      <td>Motor 1.8 16v</td>\n      <td>2012</td>\n      <td>10728.0</td>\n      <td>False</td>\n      <td>['Sensor de estacionamento', 'Teto panorâmico'...</td>\n      <td>97497.73</td>\n      <td>1192.000000</td>\n    </tr>\n    <tr>\n      <th>A5</th>\n      <td>Motor 4.0 Turbo</td>\n      <td>2019</td>\n      <td>NaN</td>\n      <td>True</td>\n      <td>['Câmbio automático', 'Câmera de estacionament...</td>\n      <td>56445.20</td>\n      <td>NaN</td>\n    </tr>\n    <tr>\n      <th>Série 3 Cabrio</th>\n      <td>Motor 1.0 8v</td>\n      <td>2009</td>\n      <td>77599.0</td>\n      <td>False</td>\n      <td>['Controle de estabilidade', 'Sensor crepuscul...</td>\n      <td>112310.44</td>\n      <td>6466.583333</td>\n    </tr>\n    <tr>\n      <th>Dodge Jorney</th>\n      <td>Motor 3.0 32v</td>\n      <td>2010</td>\n      <td>99197.0</td>\n      <td>False</td>\n      <td>['Vidros elétricos', 'Piloto automático', 'Tet...</td>\n      <td>120716.27</td>\n      <td>9017.909091</td>\n    </tr>\n    <tr>\n      <th>Carens</th>\n      <td>Motor 5.0 V8 Bi-Turbo</td>\n      <td>2011</td>\n      <td>37978.0</td>\n      <td>False</td>\n      <td>['Ar condicionado', 'Painel digital', 'Central...</td>\n      <td>76566.49</td>\n      <td>3797.800000</td>\n    </tr>\n    <tr>\n      <th>Ford Edge</th>\n      <td>Motor Diesel V6</td>\n      <td>2002</td>\n      <td>12859.0</td>\n      <td>False</td>\n      <td>['Sensor crepuscular', 'Rodas de liga', 'Teto ...</td>\n      <td>71647.59</td>\n      <td>676.789474</td>\n    </tr>\n    <tr>\n      <th>Courier</th>\n      <td>Motor Diesel V8</td>\n      <td>2007</td>\n      <td>8052.0</td>\n      <td>False</td>\n      <td>['Central multimídia', '4 X 4', 'Piloto automá...</td>\n      <td>73919.53</td>\n      <td>575.142857</td>\n    </tr>\n    <tr>\n      <th>S-18</th>\n      <td>Motor V6</td>\n      <td>2001</td>\n      <td>89773.0</td>\n      <td>False</td>\n      <td>['Bancos de couro', 'Sensor de chuva', 'Rodas ...</td>\n      <td>112732.99</td>\n      <td>4488.650000</td>\n    </tr>\n    <tr>\n      <th>J5</th>\n      <td>Motor V6</td>\n      <td>2019</td>\n      <td>NaN</td>\n      <td>True</td>\n      <td>['Sensor crepuscular', 'Painel digital', 'Roda...</td>\n      <td>53183.38</td>\n      <td>NaN</td>\n    </tr>\n    <tr>\n      <th>F-Type Coupé</th>\n      <td>Motor 5.0 V8 Bi-Turbo</td>\n      <td>2009</td>\n      <td>41457.0</td>\n      <td>False</td>\n      <td>['Piloto automático', 'Sensor crepuscular', 'S...</td>\n      <td>127488.42</td>\n      <td>3454.750000</td>\n    </tr>\n  </tbody>\n</table>\n</div>"
     },
     "metadata": {}
    }
   ],
   "source": [
    "#   A função .iterrows() gera um iterador que contém tuplas, compostas do index do \n",
    "#   dataset e as informações das linhas(rows), portanto é possível atribuir os dados \n",
    "#   desempacotando e até criando campos novos, desta maneira:\n",
    "\n",
    "ANO_ATUAL = 2021\n",
    "is_number= lambda x: type(x) == int or float\n",
    "\n",
    "for indice, linha in ds.iterrows():\n",
    "    idade_carro = ANO_ATUAL - linha['Ano']\n",
    "    km = linha['Quilometragem']\n",
    "    ds.loc[indice, \"km_media\"] = km / idade_carro if idade_carro != 0 and is_number(km) else 0\n",
    "    \n",
    "\n",
    "display(ds[:15])"
   ]
  },
  {
   "cell_type": "code",
   "execution_count": 7,
   "metadata": {},
   "outputs": [
    {
     "output_type": "execute_result",
     "data": {
      "text/plain": [
       "[2, 9, 13, 15, 18, 22, 25, 27, 30]"
      ]
     },
     "metadata": {},
     "execution_count": 7
    }
   ],
   "source": [
    "dia = [2,9,13,15,18]\n",
    "mais_dias = [22,25,27,30]\n",
    "dia.extend(mais_dias)\n",
    "dia"
   ]
  },
  {
   "cell_type": "code",
   "execution_count": null,
   "metadata": {},
   "outputs": [],
   "source": []
  }
 ]
}