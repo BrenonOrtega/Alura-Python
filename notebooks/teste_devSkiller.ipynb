{
 "metadata": {
  "language_info": {
   "codemirror_mode": {
    "name": "ipython",
    "version": 3
   },
   "file_extension": ".py",
   "mimetype": "text/x-python",
   "name": "python",
   "nbconvert_exporter": "python",
   "pygments_lexer": "ipython3",
   "version": "3.9.2-final"
  },
  "orig_nbformat": 2,
  "kernelspec": {
   "name": "python3",
   "display_name": "Python 3.9.2 64-bit",
   "metadata": {
    "interpreter": {
     "hash": "1bf3c79337c2469476823b6952886bcae960a573f5e5aadb3512976765d29961"
    }
   }
  }
 },
 "nbformat": 4,
 "nbformat_minor": 2,
 "cells": [
  {
   "cell_type": "code",
   "execution_count": 50,
   "metadata": {},
   "outputs": [
    {
     "output_type": "execute_result",
     "data": {
      "text/plain": [
       "['03/2020',\n",
       " '05/2020',\n",
       " '06/2020',\n",
       " '12/2020',\n",
       " '12/2020',\n",
       " '12/2020',\n",
       " '11/2020',\n",
       " '10/1950',\n",
       " '01/2002',\n",
       " '06/2010',\n",
       " '06/2013',\n",
       " '02/2000',\n",
       " '06/2018']"
      ]
     },
     "metadata": {},
     "execution_count": 50
    }
   ],
   "source": [
    "#Estudo de Regex testando aplicação feita na ASPLAN\n",
    "import re\n",
    "lista = ['01/020','oi', '15/2020', 123/4123, '03/2020', \"alo\", '14/2020', \"dificil\",'05/2020', '06/2020', '12/2020', 'a/2020', 'v3/2020', '1b/2020', '22/2020', '90/2002', '12/2020', '12/2020', '43/2020', '93/2020', '11/2020', '10/19120', '25/2900', '01/2090', '03/2070', '10/1950', '80/1998', '08/1750', 'a1/2020', '01/1800', '01/2002', '06/2010', '06/2013', '02/2000', '06/2018', ]\n",
    "\n",
    "regex = '^[0]?([1-9]|^[1][0-2])/[1]?([9][0-9]{2}|[2][0][0-2][0-9])$'\n",
    "\n",
    "#re.search(regex, lista)\n",
    "match = [item for item in lista if type(item) == str and re.search(regex, item) is not None]\n",
    "match"
   ]
  },
  {
   "cell_type": "code",
   "execution_count": 62,
   "metadata": {},
   "outputs": [
    {
     "output_type": "display_data",
     "data": {
      "text/plain": "['01/020',\n 'oi',\n '15/2020',\n 'Kyogre',\n 'alo',\n '14/2020',\n 'dificil',\n 'Kyogre',\n 'Kyogre',\n 'Kyogre',\n 'a/2020',\n 'v3/2020',\n '1b/2020',\n '22/2020',\n '90/2002',\n 'Kyogre',\n 'Kyogre',\n '43/2020',\n '93/2020',\n 'Kyogre',\n '10/19120',\n '25/2900',\n '01/2090',\n '03/2070',\n 'Kyogre',\n '80/1998',\n '08/1750',\n 'a1/2020',\n '01/1800',\n 'Kyogre',\n 'Kyogre',\n 'Kyogre',\n 'Kyogre',\n 'Kyogre']"
     },
     "metadata": {}
    }
   ],
   "source": [
    "lista1 = ['01/020','oi', '15/2020', 123/4123, '03/2020', \"alo\", '14/2020', \"dificil\",'05/2020', '06/2020', '12/2020', 'a/2020', 'v3/2020', '1b/2020', '22/2020', '90/2002', '12/2020', '12/2020', '43/2020', '93/2020', '11/2020', '10/19120', '25/2900', '01/2090', '03/2070', '10/1950', '80/1998', '08/1750', 'a1/2020', '01/1800', '01/2002', '06/2010', '06/2013', '02/2000', '06/2018', ]\n",
    "\n",
    "regex1 = '^[0]?([1-9]|^[1][0-2])/[1]?([9][0-9]{2}|[2][0][0-2][0-9])$'\n",
    "match1 = [re.sub(regex1, \"Kyogre\", i) for i in lista1 if type(i) == str]\n",
    "\n",
    "display(match1)"
   ]
  },
  {
   "cell_type": "code",
   "execution_count": 69,
   "metadata": {},
   "outputs": [
    {
     "output_type": "display_data",
     "data": {
      "text/plain": "[1, 2, 3]"
     },
     "metadata": {}
    },
    {
     "output_type": "display_data",
     "data": {
      "text/plain": "[4, 5, 6]"
     },
     "metadata": {}
    },
    {
     "output_type": "display_data",
     "data": {
      "text/plain": "[7, 8, 9]"
     },
     "metadata": {}
    }
   ],
   "source": [
    "#Estudo próprio sobre rotacionamento de matrizes.\n",
    "\n",
    "lista2 = [[1,2,3], [4,5,6], [7,8,9]]\n",
    "\n",
    "display(lista2[0])\n",
    "display(lista2[1])\n",
    "display(lista2[2])"
   ]
  },
  {
   "cell_type": "code",
   "execution_count": 70,
   "metadata": {},
   "outputs": [
    {
     "output_type": "display_data",
     "data": {
      "text/plain": "[3, 6, 9]"
     },
     "metadata": {}
    },
    {
     "output_type": "display_data",
     "data": {
      "text/plain": "[2, 5, 8]"
     },
     "metadata": {}
    },
    {
     "output_type": "display_data",
     "data": {
      "text/plain": "[1, 4, 7]"
     },
     "metadata": {}
    }
   ],
   "source": [
    "lista2 = [[3,6,9], [2,5,8], [1,4,7]]\n",
    "\n",
    "display(lista2[0])\n",
    "display(lista2[1])\n",
    "display(lista2[2])"
   ]
  },
  {
   "cell_type": "code",
   "execution_count": 6,
   "metadata": {},
   "outputs": [
    {
     "output_type": "stream",
     "name": "stdout",
     "text": [
      "0\n1\n2\n"
     ]
    },
    {
     "output_type": "execute_result",
     "data": {
      "text/plain": [
       "[1, 4, 5, 7, 8, 9]"
      ]
     },
     "metadata": {},
     "execution_count": 6
    }
   ],
   "source": [
    "lista2 = [[1,2,3], [4,5,6], [7,8,9]]\n",
    "\n",
    "lista3=[]\n",
    "for j in range(len(lista2)):\n",
    "    print(j)\n",
    "    for i in range(j+1):\n",
    "        lista3.append(lista2[j][i])\n",
    "\n",
    "#lista3 = [lista2[j][i] for j in range(len(lista2)) for i in lista2]\n",
    "lista3\n"
   ]
  },
  {
   "cell_type": "code",
   "execution_count": 70,
   "metadata": {},
   "outputs": [
    {
     "output_type": "display_data",
     "data": {
      "text/plain": "   debito  credito  movimento  debito.1  credito.1  movimento.1  debito.2  \\\n0       1        2          3         4          5            6         7   \n1      11       12         13        14         15           16        17   \n\n   credito.2  movimento.2  \n0          8            9  \n1         18           19  ",
      "text/html": "<div>\n<style scoped>\n    .dataframe tbody tr th:only-of-type {\n        vertical-align: middle;\n    }\n\n    .dataframe tbody tr th {\n        vertical-align: top;\n    }\n\n    .dataframe thead th {\n        text-align: right;\n    }\n</style>\n<table border=\"1\" class=\"dataframe\">\n  <thead>\n    <tr style=\"text-align: right;\">\n      <th></th>\n      <th>debito</th>\n      <th>credito</th>\n      <th>movimento</th>\n      <th>debito.1</th>\n      <th>credito.1</th>\n      <th>movimento.1</th>\n      <th>debito.2</th>\n      <th>credito.2</th>\n      <th>movimento.2</th>\n    </tr>\n  </thead>\n  <tbody>\n    <tr>\n      <th>0</th>\n      <td>1</td>\n      <td>2</td>\n      <td>3</td>\n      <td>4</td>\n      <td>5</td>\n      <td>6</td>\n      <td>7</td>\n      <td>8</td>\n      <td>9</td>\n    </tr>\n    <tr>\n      <th>1</th>\n      <td>11</td>\n      <td>12</td>\n      <td>13</td>\n      <td>14</td>\n      <td>15</td>\n      <td>16</td>\n      <td>17</td>\n      <td>18</td>\n      <td>19</td>\n    </tr>\n  </tbody>\n</table>\n</div>"
     },
     "metadata": {}
    },
    {
     "output_type": "display_data",
     "data": {
      "text/plain": "Index(['debito', 'credito', 'movimento', 'debito.1', 'credito.1',\n       'movimento.1', 'debito.2', 'credito.2', 'movimento.2'],\n      dtype='object')"
     },
     "metadata": {}
    },
    {
     "output_type": "error",
     "ename": "AttributeError",
     "evalue": "'Tabela' object has no attribute 'extract'",
     "traceback": [
      "\u001b[1;31m---------------------------------------------------------------------------\u001b[0m",
      "\u001b[1;31mAttributeError\u001b[0m                            Traceback (most recent call last)",
      "\u001b[1;32m<ipython-input-70-1aa66a23c35f>\u001b[0m in \u001b[0;36m<module>\u001b[1;34m\u001b[0m\n\u001b[0;32m     18\u001b[0m \u001b[0mregex\u001b[0m \u001b[1;33m=\u001b[0m \u001b[1;34mr'[in]to'\u001b[0m\u001b[1;33m\u001b[0m\u001b[1;33m\u001b[0m\u001b[0m\n\u001b[0;32m     19\u001b[0m \u001b[0mregex2\u001b[0m \u001b[1;33m=\u001b[0m \u001b[1;34mr'^[d]'\u001b[0m\u001b[1;33m\u001b[0m\u001b[1;33m\u001b[0m\u001b[0m\n\u001b[1;32m---> 20\u001b[1;33m \u001b[0mprint\u001b[0m\u001b[1;33m(\u001b[0m\u001b[0ma\u001b[0m\u001b[1;33m.\u001b[0m\u001b[0mextract\u001b[0m\u001b[1;33m(\u001b[0m\u001b[0mregex2\u001b[0m\u001b[1;33m)\u001b[0m\u001b[1;33m)\u001b[0m\u001b[1;33m\u001b[0m\u001b[1;33m\u001b[0m\u001b[0m\n\u001b[0m",
      "\u001b[1;31mAttributeError\u001b[0m: 'Tabela' object has no attribute 'extract'"
     ]
    }
   ],
   "source": []
  },
  {
   "cell_type": "code",
   "execution_count": null,
   "metadata": {},
   "outputs": [],
   "source": []
  }
 ]
}